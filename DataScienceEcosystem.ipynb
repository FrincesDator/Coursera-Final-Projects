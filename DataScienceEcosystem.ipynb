{
 "cells": [
  {
   "cell_type": "markdown",
   "id": "c2839ace-1b3f-4105-9c39-785edac0f1f9",
   "metadata": {},
   "source": [
    "# Data Science Tools and Ecosystem"
   ]
  },
  {
   "cell_type": "markdown",
   "id": "55514ec5-3d6f-47ab-9846-f3cacd7a6d71",
   "metadata": {},
   "source": [
    "## In this notebook, Data Science Tools and Ecosystem are summarized."
   ]
  },
  {
   "cell_type": "markdown",
   "id": "f9f4de9c-28c8-462b-b85e-3d0242ef82d2",
   "metadata": {},
   "source": [
    "**Objectives:**\n",
    "- List popular languages for Data Science\n",
    "- List commonly used libraries used by Data Scientists\n",
    "- List Data Science Tools\n",
    "- Examples of evaluating arithmetic expressions in Python"
   ]
  },
  {
   "cell_type": "markdown",
   "id": "ad591723-a2d8-4e66-8643-4a142a175aed",
   "metadata": {},
   "source": [
    "### Some of the popular languages that Data Scientists use are:\n",
    "1. Python\n",
    "2. R\n",
    "3. SQL\n",
    "4. Java\n",
    "5. Julia\n",
    "6. Scala\n",
    "7. C/C++\n",
    "8. JavaScript\n",
    "9. Swift\n",
    "10. Go\n",
    "11. MATLAB\n",
    "12. SAS"
   ]
  },
  {
   "cell_type": "markdown",
   "id": "4740e807-6d29-415a-9746-4dda6798d437",
   "metadata": {},
   "source": [
    "### Some of the commonly used libraries used by Data Scientists include:\n",
    "#### Staple Python Libraries\n",
    "1. NumPy\n",
    "2. Pandas\n",
    "3. Matplotlib\n",
    "4. Seaborn\n",
    "5. Plotly\n",
    "6. Scikit-Learn\n",
    "#### Staple Python Libraries\n",
    "7. LightGBM\n",
    "8. XGBoost\n",
    "9. CatBoost\n",
    "10. Statsmodels\n",
    "11. RAPIDS.AI cuDF and cuML\n",
    "12. Optuna\n",
    "#### Automated Machine Learning (AutoML) Python Libraries\n",
    "13. PyCaret\n",
    "14. H2O\n",
    "15. TPOT\n",
    "16. Auto-sklearn\n",
    "17. FLAML\n",
    "#### Deep Learning Python Libraries\n",
    "18. TensorFlow\n",
    "19. PyTorch\n",
    "20. FastAI\n",
    "21. Keras\n",
    "22. PyTorch Lightning\n",
    "#### Python Libraries for Natural Language Processing\n",
    "23. NLTK\n",
    "24. spaCy\n",
    "25. Gensim\n",
    "26. Hugging Face Transformers"
   ]
  },
  {
   "cell_type": "markdown",
   "id": "a20f96e8-c078-4ba3-a99b-7d0d0a310358",
   "metadata": {},
   "source": [
    "|Data Science Tools|\n",
    "|------------------|\n",
    "|Jupyter Notebook|\n",
    "|RStudio|\n",
    "|VS Code|"
   ]
  },
  {
   "cell_type": "markdown",
   "id": "1fdac421-df70-41c9-a29d-2481a2ded0d0",
   "metadata": {},
   "source": [
    "### Below are a few examples of evaluating arithmetic expressions in Python"
   ]
  },
  {
   "cell_type": "code",
   "execution_count": 1,
   "id": "dbbcac2f-2f63-46c6-832d-cd464351f891",
   "metadata": {},
   "outputs": [
    {
     "data": {
      "text/plain": [
       "17"
      ]
     },
     "execution_count": 1,
     "metadata": {},
     "output_type": "execute_result"
    }
   ],
   "source": [
    "# This a simple arithmetic expression to mutiply then add integers\n",
    "(3*4)+5"
   ]
  },
  {
   "cell_type": "code",
   "execution_count": 3,
   "id": "9df170ee-2766-467c-bafa-b4a4bd1676ea",
   "metadata": {},
   "outputs": [
    {
     "data": {
      "text/plain": [
       "33.333333333333336"
      ]
     },
     "execution_count": 3,
     "metadata": {},
     "output_type": "execute_result"
    }
   ],
   "source": [
    "# This will convert 200 minutes to hours by diving by 60\n",
    "200/6"
   ]
  },
  {
   "cell_type": "markdown",
   "id": "3f6cc738-63c2-4331-9355-b6e913cb4e46",
   "metadata": {},
   "source": [
    "## Author\n",
    "Frinces Myles Tan Dator"
   ]
  },
  {
   "cell_type": "code",
   "execution_count": null,
   "id": "b09c1010-d5a8-48db-9f16-7b31f85b89a5",
   "metadata": {},
   "outputs": [],
   "source": []
  }
 ],
 "metadata": {
  "kernelspec": {
   "display_name": "Python 3 (ipykernel)",
   "language": "python",
   "name": "python3"
  },
  "language_info": {
   "codemirror_mode": {
    "name": "ipython",
    "version": 3
   },
   "file_extension": ".py",
   "mimetype": "text/x-python",
   "name": "python",
   "nbconvert_exporter": "python",
   "pygments_lexer": "ipython3",
   "version": "3.13.2"
  }
 },
 "nbformat": 4,
 "nbformat_minor": 5
}
